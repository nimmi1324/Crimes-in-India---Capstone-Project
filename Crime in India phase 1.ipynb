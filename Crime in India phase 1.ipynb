{
 "cells": [
  {
   "cell_type": "markdown",
   "id": "c44a3f78",
   "metadata": {},
   "source": [
    "# Crime in India "
   ]
  },
  {
   "cell_type": "code",
   "execution_count": null,
   "id": "eadda233",
   "metadata": {},
   "outputs": [],
   "source": [
    "# Phase 1 (Data collection preparation part)\n",
    "#Note: \n",
    "#You can collect data from anywhere (wiki, google, etc) but mention the link from where data is being collected.\n",
    "#You can collect the data manually. It's NOT a web scraping task.\n",
    "#Data should be collected for the years mentioned in the files. (If you don't find proper data, make your best judgment and fill it, It's absolutely OK. Do not worry about data accuracy)\n",
    "#The population of each state.\n",
    "#Literacy Rate in each state\n",
    "#Area of each state\n",
    "#Collect any other data that helps with your analysis. There is no limitation for anything.\n",
    "#Create a new file and keep the above-collected data."
   ]
  },
  {
   "cell_type": "code",
   "execution_count": null,
   "id": "7473e59b",
   "metadata": {},
   "outputs": [],
   "source": [
    "#Data collected from https://en.wikipedia.org/wiki/List_of_states_and_union_territories_of_India_by_crime_rate and cencus_2011"
   ]
  },
  {
   "cell_type": "code",
   "execution_count": 1,
   "id": "ad027b91",
   "metadata": {},
   "outputs": [],
   "source": [
    "import pandas as pd"
   ]
  },
  {
   "cell_type": "code",
   "execution_count": 2,
   "id": "622838f8",
   "metadata": {},
   "outputs": [],
   "source": [
    "population_data=pd.read_excel(r'C:/Users/HP/Desktop/Learning-2023/Phase 1 Population data.xlsx')"
   ]
  },
  {
   "cell_type": "code",
   "execution_count": 3,
   "id": "8227b12e",
   "metadata": {},
   "outputs": [
    {
     "data": {
      "text/html": [
       "<div>\n",
       "<style scoped>\n",
       "    .dataframe tbody tr th:only-of-type {\n",
       "        vertical-align: middle;\n",
       "    }\n",
       "\n",
       "    .dataframe tbody tr th {\n",
       "        vertical-align: top;\n",
       "    }\n",
       "\n",
       "    .dataframe thead th {\n",
       "        text-align: right;\n",
       "    }\n",
       "</style>\n",
       "<table border=\"1\" class=\"dataframe\">\n",
       "  <thead>\n",
       "    <tr style=\"text-align: right;\">\n",
       "      <th></th>\n",
       "      <th>#</th>\n",
       "      <th>State</th>\n",
       "      <th>Population</th>\n",
       "      <th>Area(Km2)</th>\n",
       "      <th>Literacy</th>\n",
       "    </tr>\n",
       "  </thead>\n",
       "  <tbody>\n",
       "    <tr>\n",
       "      <th>0</th>\n",
       "      <td>-</td>\n",
       "      <td>India</td>\n",
       "      <td>1210854977</td>\n",
       "      <td>3287240</td>\n",
       "      <td>74.04</td>\n",
       "    </tr>\n",
       "    <tr>\n",
       "      <th>1</th>\n",
       "      <td>1</td>\n",
       "      <td>Uttar Pradesh</td>\n",
       "      <td>199812341</td>\n",
       "      <td>240928</td>\n",
       "      <td>67.68</td>\n",
       "    </tr>\n",
       "    <tr>\n",
       "      <th>2</th>\n",
       "      <td>2</td>\n",
       "      <td>Maharashtra</td>\n",
       "      <td>112374333</td>\n",
       "      <td>307713</td>\n",
       "      <td>82.34</td>\n",
       "    </tr>\n",
       "    <tr>\n",
       "      <th>3</th>\n",
       "      <td>3</td>\n",
       "      <td>Bihar</td>\n",
       "      <td>104099452</td>\n",
       "      <td>94163</td>\n",
       "      <td>61.80</td>\n",
       "    </tr>\n",
       "    <tr>\n",
       "      <th>4</th>\n",
       "      <td>4</td>\n",
       "      <td>West Bengal</td>\n",
       "      <td>91276115</td>\n",
       "      <td>88752</td>\n",
       "      <td>76.26</td>\n",
       "    </tr>\n",
       "  </tbody>\n",
       "</table>\n",
       "</div>"
      ],
      "text/plain": [
       "   #          State  Population  Area(Km2)  Literacy\n",
       "0  -          India  1210854977    3287240     74.04\n",
       "1  1  Uttar Pradesh   199812341     240928     67.68\n",
       "2  2    Maharashtra   112374333     307713     82.34\n",
       "3  3          Bihar   104099452      94163     61.80\n",
       "4  4    West Bengal    91276115      88752     76.26"
      ]
     },
     "execution_count": 3,
     "metadata": {},
     "output_type": "execute_result"
    }
   ],
   "source": [
    "population_data.head()"
   ]
  },
  {
   "cell_type": "code",
   "execution_count": 5,
   "id": "3cd61f9e",
   "metadata": {},
   "outputs": [
    {
     "data": {
      "text/html": [
       "<div>\n",
       "<style scoped>\n",
       "    .dataframe tbody tr th:only-of-type {\n",
       "        vertical-align: middle;\n",
       "    }\n",
       "\n",
       "    .dataframe tbody tr th {\n",
       "        vertical-align: top;\n",
       "    }\n",
       "\n",
       "    .dataframe thead th {\n",
       "        text-align: right;\n",
       "    }\n",
       "</style>\n",
       "<table border=\"1\" class=\"dataframe\">\n",
       "  <thead>\n",
       "    <tr style=\"text-align: right;\">\n",
       "      <th></th>\n",
       "      <th>#</th>\n",
       "      <th>State</th>\n",
       "      <th>Population</th>\n",
       "      <th>Area(Km2)</th>\n",
       "      <th>Literacy</th>\n",
       "    </tr>\n",
       "  </thead>\n",
       "  <tbody>\n",
       "    <tr>\n",
       "      <th>31</th>\n",
       "      <td>31</td>\n",
       "      <td>Sikkim</td>\n",
       "      <td>610577</td>\n",
       "      <td>7096</td>\n",
       "      <td>81.42</td>\n",
       "    </tr>\n",
       "    <tr>\n",
       "      <th>32</th>\n",
       "      <td>32</td>\n",
       "      <td>Andaman and Nicobar Islands</td>\n",
       "      <td>380581</td>\n",
       "      <td>8249</td>\n",
       "      <td>86.63</td>\n",
       "    </tr>\n",
       "    <tr>\n",
       "      <th>33</th>\n",
       "      <td>33</td>\n",
       "      <td>Dadra and Nagar Haveli</td>\n",
       "      <td>343709</td>\n",
       "      <td>491</td>\n",
       "      <td>76.24</td>\n",
       "    </tr>\n",
       "    <tr>\n",
       "      <th>34</th>\n",
       "      <td>34</td>\n",
       "      <td>Daman and Diu</td>\n",
       "      <td>243247</td>\n",
       "      <td>111</td>\n",
       "      <td>87.10</td>\n",
       "    </tr>\n",
       "    <tr>\n",
       "      <th>35</th>\n",
       "      <td>35</td>\n",
       "      <td>Lakshadweep</td>\n",
       "      <td>64473</td>\n",
       "      <td>30</td>\n",
       "      <td>91.85</td>\n",
       "    </tr>\n",
       "  </tbody>\n",
       "</table>\n",
       "</div>"
      ],
      "text/plain": [
       "     #                        State  Population  Area(Km2)  Literacy\n",
       "31  31                       Sikkim      610577       7096     81.42\n",
       "32  32  Andaman and Nicobar Islands      380581       8249     86.63\n",
       "33  33       Dadra and Nagar Haveli      343709        491     76.24\n",
       "34  34                Daman and Diu      243247        111     87.10\n",
       "35  35                  Lakshadweep       64473         30     91.85"
      ]
     },
     "execution_count": 5,
     "metadata": {},
     "output_type": "execute_result"
    }
   ],
   "source": [
    "population_data.tail()"
   ]
  },
  {
   "cell_type": "code",
   "execution_count": 6,
   "id": "21accb21",
   "metadata": {},
   "outputs": [
    {
     "data": {
      "text/plain": [
       "(36, 5)"
      ]
     },
     "execution_count": 6,
     "metadata": {},
     "output_type": "execute_result"
    }
   ],
   "source": [
    "population_data.shape"
   ]
  },
  {
   "cell_type": "code",
   "execution_count": 8,
   "id": "3380d749",
   "metadata": {},
   "outputs": [
    {
     "data": {
      "text/html": [
       "<div>\n",
       "<style scoped>\n",
       "    .dataframe tbody tr th:only-of-type {\n",
       "        vertical-align: middle;\n",
       "    }\n",
       "\n",
       "    .dataframe tbody tr th {\n",
       "        vertical-align: top;\n",
       "    }\n",
       "\n",
       "    .dataframe thead th {\n",
       "        text-align: right;\n",
       "    }\n",
       "</style>\n",
       "<table border=\"1\" class=\"dataframe\">\n",
       "  <thead>\n",
       "    <tr style=\"text-align: right;\">\n",
       "      <th></th>\n",
       "      <th>Population</th>\n",
       "      <th>Area(Km2)</th>\n",
       "      <th>Literacy</th>\n",
       "    </tr>\n",
       "  </thead>\n",
       "  <tbody>\n",
       "    <tr>\n",
       "      <th>count</th>\n",
       "      <td>3.600000e+01</td>\n",
       "      <td>3.600000e+01</td>\n",
       "      <td>36.000000</td>\n",
       "    </tr>\n",
       "    <tr>\n",
       "      <th>mean</th>\n",
       "      <td>6.726972e+07</td>\n",
       "      <td>1.826308e+05</td>\n",
       "      <td>77.746389</td>\n",
       "    </tr>\n",
       "    <tr>\n",
       "      <th>std</th>\n",
       "      <td>2.008793e+08</td>\n",
       "      <td>5.419553e+05</td>\n",
       "      <td>8.493907</td>\n",
       "    </tr>\n",
       "    <tr>\n",
       "      <th>min</th>\n",
       "      <td>6.447300e+04</td>\n",
       "      <td>3.000000e+01</td>\n",
       "      <td>61.800000</td>\n",
       "    </tr>\n",
       "    <tr>\n",
       "      <th>25%</th>\n",
       "      <td>1.439840e+06</td>\n",
       "      <td>9.926750e+03</td>\n",
       "      <td>71.712500</td>\n",
       "    </tr>\n",
       "    <tr>\n",
       "      <th>50%</th>\n",
       "      <td>2.106970e+07</td>\n",
       "      <td>5.457800e+04</td>\n",
       "      <td>76.600000</td>\n",
       "    </tr>\n",
       "    <tr>\n",
       "      <th>75%</th>\n",
       "      <td>6.295858e+07</td>\n",
       "      <td>1.647280e+05</td>\n",
       "      <td>85.900000</td>\n",
       "    </tr>\n",
       "    <tr>\n",
       "      <th>max</th>\n",
       "      <td>1.210855e+09</td>\n",
       "      <td>3.287240e+06</td>\n",
       "      <td>94.000000</td>\n",
       "    </tr>\n",
       "  </tbody>\n",
       "</table>\n",
       "</div>"
      ],
      "text/plain": [
       "         Population     Area(Km2)   Literacy\n",
       "count  3.600000e+01  3.600000e+01  36.000000\n",
       "mean   6.726972e+07  1.826308e+05  77.746389\n",
       "std    2.008793e+08  5.419553e+05   8.493907\n",
       "min    6.447300e+04  3.000000e+01  61.800000\n",
       "25%    1.439840e+06  9.926750e+03  71.712500\n",
       "50%    2.106970e+07  5.457800e+04  76.600000\n",
       "75%    6.295858e+07  1.647280e+05  85.900000\n",
       "max    1.210855e+09  3.287240e+06  94.000000"
      ]
     },
     "execution_count": 8,
     "metadata": {},
     "output_type": "execute_result"
    }
   ],
   "source": [
    "population_data.describe()"
   ]
  },
  {
   "cell_type": "code",
   "execution_count": 9,
   "id": "35bf9526",
   "metadata": {},
   "outputs": [
    {
     "data": {
      "text/plain": [
       "Index(['#', 'State', 'Population', 'Area(Km2)', 'Literacy'], dtype='object')"
      ]
     },
     "execution_count": 9,
     "metadata": {},
     "output_type": "execute_result"
    }
   ],
   "source": [
    "population_data.columns"
   ]
  },
  {
   "cell_type": "code",
   "execution_count": 11,
   "id": "155979c2",
   "metadata": {},
   "outputs": [
    {
     "data": {
      "text/plain": [
       "#              object\n",
       "State          object\n",
       "Population      int64\n",
       "Area(Km2)       int64\n",
       "Literacy      float64\n",
       "dtype: object"
      ]
     },
     "execution_count": 11,
     "metadata": {},
     "output_type": "execute_result"
    }
   ],
   "source": [
    "population_data.dtypes"
   ]
  },
  {
   "cell_type": "code",
   "execution_count": 12,
   "id": "85fe9355",
   "metadata": {},
   "outputs": [
    {
     "data": {
      "text/plain": [
       "#             0\n",
       "State         0\n",
       "Population    0\n",
       "Area(Km2)     0\n",
       "Literacy      0\n",
       "dtype: int64"
      ]
     },
     "execution_count": 12,
     "metadata": {},
     "output_type": "execute_result"
    }
   ],
   "source": [
    "population_data.isnull().sum()"
   ]
  },
  {
   "cell_type": "code",
   "execution_count": 16,
   "id": "a1d47309",
   "metadata": {},
   "outputs": [
    {
     "data": {
      "text/plain": [
       "#             36\n",
       "State         36\n",
       "Population    36\n",
       "Area(Km2)     36\n",
       "Literacy      36\n",
       "dtype: int64"
      ]
     },
     "execution_count": 16,
     "metadata": {},
     "output_type": "execute_result"
    }
   ],
   "source": [
    "population_data.nunique()"
   ]
  },
  {
   "cell_type": "code",
   "execution_count": null,
   "id": "360e8689",
   "metadata": {},
   "outputs": [],
   "source": []
  }
 ],
 "metadata": {
  "kernelspec": {
   "display_name": "Python 3 (ipykernel)",
   "language": "python",
   "name": "python3"
  },
  "language_info": {
   "codemirror_mode": {
    "name": "ipython",
    "version": 3
   },
   "file_extension": ".py",
   "mimetype": "text/x-python",
   "name": "python",
   "nbconvert_exporter": "python",
   "pygments_lexer": "ipython3",
   "version": "3.10.9"
  }
 },
 "nbformat": 4,
 "nbformat_minor": 5
}
